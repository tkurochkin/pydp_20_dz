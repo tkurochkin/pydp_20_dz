{
 "cells": [
  {
   "cell_type": "code",
   "execution_count": 51,
   "id": "7eb7be7d",
   "metadata": {},
   "outputs": [
    {
     "name": "stdout",
     "output_type": "stream",
     "text": [
      "datatype\n",
      "at\n"
     ]
    }
   ],
   "source": [
    "#Задание 1\n",
    "#Дана переменная, в которой хранится слово из латинских букв. Напишите код, который выводит на экран:\n",
    "\n",
    "#среднюю букву, если число букв в слове нечетное;\n",
    "#две средних буквы, если число букв четное.\n",
    "#datatype\n",
    "\n",
    "a = input()\n",
    "\n",
    "if len(a) % 2 !=0:\n",
    "    print (a[int((len(a) - 1)/2)])\n",
    "else:\n",
    "    print (str(a[int((len(a))/2-1)]) + str(a[int((len(a))/2)]))\n"
   ]
  },
  {
   "cell_type": "code",
   "execution_count": 13,
   "id": "eeba0fbb",
   "metadata": {},
   "outputs": [
    {
     "name": "stdout",
     "output_type": "stream",
     "text": [
      "Enter number: 2564894\n",
      "Enter number: 3215484\n",
      "Enter number: 18487\n",
      "Enter number: 0\n",
      "5798865\n"
     ]
    }
   ],
   "source": [
    "#Задание 2\n",
    "#Напишите программу, которая последовательно запрашивает у пользователя числа (по одному за раз) \n",
    "#и после первого нуля выводит сумму всех ранее введенных чисел\n",
    "\n",
    "list_ = []\n",
    "num = int(input('Enter number: '))\n",
    "list_.append(num)\n",
    "while num != 0:\n",
    "    num = int(input('Enter number: '))\n",
    "    list_.append(num)\n",
    "else:\n",
    "    print(sum(list_))\n",
    "   \n",
    "   \n",
    "        \n",
    "    \n",
    "    \n"
   ]
  },
  {
   "cell_type": "code",
   "execution_count": 42,
   "id": "2df1c03c",
   "metadata": {},
   "outputs": [
    {
     "name": "stdout",
     "output_type": "stream",
     "text": [
      "Alex и Emma\n",
      "Arthur и Kate\n",
      "John и Kira\n",
      "Piter и Liza\n",
      "Richard и Trisha\n"
     ]
    }
   ],
   "source": [
    "#Задание 3\n",
    "#Мы делаем MVP dating-сервиса, и у нас есть список парней и девушек.\n",
    "#Выдвигаем гипотезу: лучшие рекомендации мы получим, \n",
    "#если просто отсортируем имена по алфавиту и познакомим людей с одинаковыми индексами после сортировки! \n",
    "#Но мы не будем никого знакомить, если кто-то может остаться без пары:\n",
    "\n",
    "\n",
    "\n",
    "boys = ['Piter', 'Alex', 'John', 'Arthur', 'Richard']\n",
    "girls = ['Kate', 'Liza', 'Kira', 'Emma', 'Trisha']\n",
    "\n",
    "boys.sort()\n",
    "girls.sort()\n",
    "\n",
    "if len(boys) != len(girls):\n",
    "    print('Кто-то может остаться без пары')\n",
    "else:\n",
    "    for b, g in zip(boys, girls):\n",
    "            print(f\"{b} и \" f\"{g}\")\n",
    "    "
   ]
  },
  {
   "cell_type": "code",
   "execution_count": 71,
   "id": "a74d0b8f",
   "metadata": {},
   "outputs": [
    {
     "name": "stdout",
     "output_type": "stream",
     "text": [
      "Средняя температура в странах:\n",
      "Thailand - 23.9\n",
      "Germany - 13.8\n",
      "Russia - 3.7\n",
      "Poland - 12.0\n"
     ]
    }
   ],
   "source": [
    "#Задание 4\n",
    "#У нас есть список, содержащий информацию о среднедневной температуре в Фаренгейтах за произвольный период по странам \n",
    "#(структура данных в примере). \n",
    "#Необходимо написать код, который рассчитает среднюю температуру за период в Цельсиях(!) для каждой страны.\n",
    "#T(°C) = (68°F - 32) × 5/9 = 20 °C\n",
    "\n",
    "ct = [\n",
    "['Thailand', [75.2, 77, 78.8, 73.4, 68, 75.2, 77]],\n",
    "['Germany', [57.2, 55.4, 59, 59, 53.6]],\n",
    "['Russia', [35.6, 37.4, 39.2, 41, 42.8, 39.2, 35.6]],\n",
    "['Poland', [50, 50, 53.6, 57.2, 55.4, 55.4]]\n",
    "]\n",
    "\n",
    "print('Средняя температура в странах:')\n",
    "\n",
    "for i in ct:\n",
    "    avgF = sum(i[1])/len(i[1])\n",
    "    avgC = (avgF - 32) * 5 / 9\n",
    "    print(f\"{i[0]} - \" f\"{avgC:.1f}\")\n",
    "    "
   ]
  }
 ],
 "metadata": {
  "kernelspec": {
   "display_name": "Python 3",
   "language": "python",
   "name": "python3"
  },
  "language_info": {
   "codemirror_mode": {
    "name": "ipython",
    "version": 3
   },
   "file_extension": ".py",
   "mimetype": "text/x-python",
   "name": "python",
   "nbconvert_exporter": "python",
   "pygments_lexer": "ipython3",
   "version": "3.8.8"
  }
 },
 "nbformat": 4,
 "nbformat_minor": 5
}
