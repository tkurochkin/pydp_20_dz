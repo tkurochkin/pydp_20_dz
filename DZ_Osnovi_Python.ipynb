{
 "cells": [
  {
   "cell_type": "code",
   "execution_count": 31,
   "id": "8a96fac7",
   "metadata": {},
   "outputs": [
    {
     "name": "stdout",
     "output_type": "stream",
     "text": [
      "phrase_1 длиннее\n"
     ]
    }
   ],
   "source": [
    "#Задание 1\n",
    "phrase_1 = 'Jack and Jill went up the hill to find out whose phares was longer...'\n",
    "phrase_2 = 'Ок'\n",
    "\n",
    "if len(phrase_1) > len(phrase_2):\n",
    "     print('phrase_1 длиннее')\n",
    "elif len(phrase_1) == len(phrase_2):\n",
    "    print('Обе фразы равны')\n",
    "else:\n",
    "    print('phrase_2 длиннее')"
   ]
  },
  {
   "cell_type": "code",
   "execution_count": 6,
   "id": "3b859be5",
   "metadata": {},
   "outputs": [
    {
     "name": "stdout",
     "output_type": "stream",
     "text": [
      "Внесите год: 1984\n",
      "Високосный\n"
     ]
    }
   ],
   "source": [
    "#Задание 2\n",
    "year = int(input('Внесите год: '))\n",
    "if year % 4 == 0 and year % 100 != 0 or year % 400 == 0:\n",
    "    print('Високосный')\n",
    "else:\n",
    "    print('Норм')"
   ]
  },
  {
   "cell_type": "code",
   "execution_count": 21,
   "id": "fd11fd48",
   "metadata": {},
   "outputs": [
    {
     "name": "stdout",
     "output_type": "stream",
     "text": [
      "Введите месяц: Май\n",
      "Введите дату: 30\n",
      "Близнецы\n"
     ]
    }
   ],
   "source": [
    "#Задание 3\n",
    "month = input('Введите месяц: ')\n",
    "date = int(input('Введите дату: '))\n",
    "\n",
    "\n",
    "if month == 'Январь' and date < 20 or month == 'Декабрь' and 22 <= date <= 31: \n",
    "    print('Козерог')\n",
    "    \n",
    "elif month == 'Февраль' and date < 20 or month == 'Январь' and 20 <= date <= 31:\n",
    "    print('Водолей')\n",
    "    \n",
    "elif month == 'Февраль' and 20 <= date <= 29 or month == 'Март' and date < 21:\n",
    "        print('Рыбы')\n",
    "\n",
    "elif month == 'Март' and 21 <= date <= 31 or month == 'Апрель' and date < 20:\n",
    "        print('Овен')    \n",
    "        \n",
    "elif month == 'Апрель' and 20 <= date <= 30 or month == 'Май' and date < 21:\n",
    "        print('Телец')   \n",
    "        \n",
    "elif month == 'Май' and 21 <= date <= 31 or month == 'Июнь' and date < 21:\n",
    "        print('Близнецы') \n",
    "        \n",
    "elif month == 'Июнь' and 21 <= date <= 30 or month == 'Июль' and date < 23:\n",
    "        print('Рак')    \n",
    "\n",
    "elif month == 'Июль' and 23 <= date <= 31 or month == 'Август' and date < 23:\n",
    "        print('Лев')   \n",
    "        \n",
    "elif month == 'Август' and 23 <= date <= 31 or month == 'Сентябрь' and date < 23:\n",
    "        print('Дева')  \n",
    "    \n",
    "elif month == 'Сентябрь' and 23 <= date <= 30 or month == 'Октябрь' and date < 24:\n",
    "        print('Весы')\n",
    "    \n",
    "elif month == 'Октябрь' and 24 <= date <= 31 or month == 'Ноябрь' and date < 23:\n",
    "        print('Скорпион') \n",
    "    \n",
    "elif month == 'Ноябрь' and 23 <= date <= 30 or month == 'Декабрь' and date < 22:\n",
    "        print('Стрелец')\n",
    "      \n",
    "        "
   ]
  },
  {
   "cell_type": "code",
   "execution_count": 27,
   "id": "f65ef125",
   "metadata": {},
   "outputs": [
    {
     "name": "stdout",
     "output_type": "stream",
     "text": [
      "Задайте ширину: 1\n",
      "Задайте длину: 1000\n",
      "Задайте высоту: 1\n",
      "Упаковка для лыж\n"
     ]
    }
   ],
   "source": [
    "#Задание 4\n",
    "\n",
    "width = int(input('Задайте ширину: '))\n",
    "length = int(input('Задайте длину: '))\n",
    "height = int(input('Задайте высоту: '))\n",
    "\n",
    "if length > 200:\n",
    "    print('Упаковка для лыж')\n",
    "elif width < 15 and length < 15 and height < 15:\n",
    "    print('Коробка №1')\n",
    "elif 15 < width < 50 or 15 < length < 50 or  15 < height < 50:\n",
    "    print('Коробка №2')\n",
    "\n",
    "else:\n",
    "    print('Стандартная коробка №3')\n"
   ]
  },
  {
   "cell_type": "code",
   "execution_count": 105,
   "id": "d4da03dd",
   "metadata": {},
   "outputs": [
    {
     "name": "stdout",
     "output_type": "stream",
     "text": [
      "Ticket no: 170123\n",
      "unLucky\n"
     ]
    }
   ],
   "source": [
    "#Задание 5 (необязательное)\n",
    "number = input('Ticket no: ')\n",
    "\n",
    "if len(number) != 6:\n",
    "    print('Ticket no. must be 6 characters long!')\n",
    "elif int(number[0]) * int(number[1]) * int(number[2]) == int(number[3]) * int(number[4]) * int(number[5]):\n",
    "        print('Lucky')\n",
    "else:\n",
    "    print('unLucky')\n"
   ]
  },
  {
   "cell_type": "code",
   "execution_count": 120,
   "id": "a8e1b2f5",
   "metadata": {},
   "outputs": [
    {
     "name": "stdout",
     "output_type": "stream",
     "text": [
      "Введите тип фигуры: Треугольник\n",
      "Введите длину стороны A: 2\n",
      "Введите длину стороны B: 2\n",
      "Введите длину стороны C: 3\n",
      "Площадь треугольника составляет 1.984313483298443\n"
     ]
    }
   ],
   "source": [
    "#Задание 5 (необязательное) формула площади трегульника S=sqrt{p*(p-a)*(p-b)*(p-c)}\n",
    "\n",
    "fig = input('Введите тип фигуры: ')\n",
    "\n",
    "if fig == 'Круг':\n",
    "    Rad = int(input ('Введите радиус: '))\n",
    "    print('Площадь круга составляет ' + str(Rad**2 * 3.14))\n",
    "if fig == 'Треугольник':\n",
    "    LenA = int(input('Введите длину стороны A: '))\n",
    "    LenB = int(input('Введите длину стороны B: '))\n",
    "    LenC = int(input('Введите длину стороны C: '))\n",
    "    p = (LenA + LenB + LenC)/2\n",
    "    S = (p*(p - LenA)*(p - LenB)*(p - LenC))**0.5\n",
    "    print('Площадь треугольника составляет ' + str(S))\n",
    "else:\n",
    "    print('stop')   \n"
   ]
  }
 ],
 "metadata": {
  "kernelspec": {
   "display_name": "Python 3",
   "language": "python",
   "name": "python3"
  },
  "language_info": {
   "codemirror_mode": {
    "name": "ipython",
    "version": 3
   },
   "file_extension": ".py",
   "mimetype": "text/x-python",
   "name": "python",
   "nbconvert_exporter": "python",
   "pygments_lexer": "ipython3",
   "version": "3.8.8"
  }
 },
 "nbformat": 4,
 "nbformat_minor": 5
}
